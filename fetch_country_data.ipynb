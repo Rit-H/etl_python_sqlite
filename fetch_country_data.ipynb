{
 "cells": [
  {
   "cell_type": "code",
   "execution_count": 1,
   "id": "6fa83418",
   "metadata": {},
   "outputs": [
    {
     "name": "stdout",
     "output_type": "stream",
     "text": [
      "✅ Saved india.json\n",
      "✅ Saved us.json\n",
      "✅ Saved uk.json\n",
      "✅ Saved china.json\n",
      "✅ Saved russia.json\n"
     ]
    }
   ],
   "source": [
    "import requests\n",
    "import os\n",
    "import json\n",
    "from datetime import datetime\n",
    "\n",
    "# List of countries\n",
    "countries = [\"india\", \"us\", \"uk\", \"china\", \"russia\"]\n",
    "\n",
    "# Base API URL\n",
    "base_url = \"https://restcountries.com/v3.1/name/\"\n",
    "\n",
    "# Output folder\n",
    "output_folder = \"country_data\"\n",
    "os.makedirs(output_folder, exist_ok=True)\n",
    "\n",
    "# Fetch and save data\n",
    "for country in countries:\n",
    "    url = base_url + country\n",
    "    try:\n",
    "        response = requests.get(url)\n",
    "        response.raise_for_status()\n",
    "        data = response.json()\n",
    "\n",
    "        # Optional: Save with timestamp if needed\n",
    "        file_path = os.path.join(output_folder, f\"{country}.json\")\n",
    "        with open(file_path, \"w\", encoding=\"utf-8\") as f:\n",
    "            json.dump(data, f, indent=4, ensure_ascii=False)\n",
    "\n",
    "        print(f\"✅ Saved {country}.json\")\n",
    "\n",
    "    except requests.exceptions.HTTPError as errh:\n",
    "        print(f\"❌ HTTP Error for {country}: {errh}\")\n",
    "    except Exception as e:\n",
    "        print(f\"❌ Error for {country}: {e}\")\n"
   ]
  },
  {
   "cell_type": "code",
   "execution_count": null,
   "id": "203a2714",
   "metadata": {},
   "outputs": [],
   "source": []
  }
 ],
 "metadata": {
  "kernelspec": {
   "display_name": "base",
   "language": "python",
   "name": "python3"
  },
  "language_info": {
   "codemirror_mode": {
    "name": "ipython",
    "version": 3
   },
   "file_extension": ".py",
   "mimetype": "text/x-python",
   "name": "python",
   "nbconvert_exporter": "python",
   "pygments_lexer": "ipython3",
   "version": "3.12.9"
  }
 },
 "nbformat": 4,
 "nbformat_minor": 5
}
